{
 "cells": [
  {
   "attachments": {},
   "cell_type": "markdown",
   "metadata": {},
   "source": [
    "Import Libraries"
   ]
  },
  {
   "cell_type": "code",
   "execution_count": 26,
   "metadata": {},
   "outputs": [],
   "source": [
    "import numpy as np\n",
    "import pandas as pd\n",
    "import matplotlib.pyplot as plt\n",
    "import seaborn as sns\n",
    "from keras.utils.np_utils import to_categorical\n",
    "from keras.models import Sequential\n",
    "from keras.layers import Dense,Conv2D,MaxPool2D,Flatten\n",
    "from sklearn.model_selection import train_test_split\n",
    "from sklearn.metrics import accuracy_score,confusion_matrix"
   ]
  },
  {
   "attachments": {},
   "cell_type": "markdown",
   "metadata": {},
   "source": [
    "Loading Dataset"
   ]
  },
  {
   "cell_type": "code",
   "execution_count": 6,
   "metadata": {},
   "outputs": [],
   "source": [
    "mnist=pd.read_csv(r\"C:\\Users\\umite\\Desktop\\vs_yapay_zeka\\mnist_digit_recognizer\\mnist.csv\")"
   ]
  },
  {
   "attachments": {},
   "cell_type": "markdown",
   "metadata": {},
   "source": [
    "Images('X') and Labels('y')"
   ]
  },
  {
   "cell_type": "code",
   "execution_count": 9,
   "metadata": {},
   "outputs": [],
   "source": [
    "X= mnist.drop(labels = [\"label\"],axis = 1) \n",
    "y= mnist[\"label\"]"
   ]
  },
  {
   "attachments": {},
   "cell_type": "markdown",
   "metadata": {},
   "source": [
    "Splitting Train and Test Set"
   ]
  },
  {
   "cell_type": "code",
   "execution_count": 10,
   "metadata": {},
   "outputs": [],
   "source": [
    "X_train, X_test, y_train, y_test = train_test_split( X, y, test_size=0.33, random_state=42)"
   ]
  },
  {
   "attachments": {},
   "cell_type": "markdown",
   "metadata": {},
   "source": [
    "Reshaping Images"
   ]
  },
  {
   "cell_type": "code",
   "execution_count": 11,
   "metadata": {},
   "outputs": [],
   "source": [
    "X_train = X_train.values.reshape(-1,28,28,1)\n",
    "X_test = X_test.values.reshape(-1,28,28,1)"
   ]
  },
  {
   "attachments": {},
   "cell_type": "markdown",
   "metadata": {},
   "source": [
    "0-1 Normalization"
   ]
  },
  {
   "cell_type": "code",
   "execution_count": 12,
   "metadata": {},
   "outputs": [],
   "source": [
    "X_train=X_train/X_train.max()\n",
    "X_test=X_test/X_test.max()"
   ]
  },
  {
   "attachments": {},
   "cell_type": "markdown",
   "metadata": {},
   "source": [
    "'y' Values Transformaiton Numerical to Categorical"
   ]
  },
  {
   "cell_type": "code",
   "execution_count": 13,
   "metadata": {},
   "outputs": [],
   "source": [
    "y_cat_train=to_categorical(y_train,10)"
   ]
  },
  {
   "attachments": {},
   "cell_type": "markdown",
   "metadata": {},
   "source": [
    "Creating CNN Model"
   ]
  },
  {
   "cell_type": "code",
   "execution_count": 14,
   "metadata": {},
   "outputs": [],
   "source": [
    "model=Sequential()\n",
    "\n",
    "model.add(Conv2D(filters=64,kernel_size=(4,4),input_shape=(28,28,1),activation=\"relu\"))\n",
    "\n",
    "model.add(MaxPool2D(pool_size=(2,2)))\n",
    "\n",
    "model.add(Conv2D(filters=64,kernel_size=(4,4),input_shape=(28,28,1),activation=\"relu\"))\n",
    "\n",
    "model.add(MaxPool2D(pool_size=(2,2)))\n",
    "\n",
    "model.add(Flatten())\n",
    "\n",
    "model.add(Dense(128,activation=\"relu\"))\n",
    "\n",
    "model.add(Dense(10,activation=\"softmax\"))"
   ]
  },
  {
   "attachments": {},
   "cell_type": "markdown",
   "metadata": {},
   "source": [
    "Compile Model"
   ]
  },
  {
   "cell_type": "code",
   "execution_count": 15,
   "metadata": {},
   "outputs": [],
   "source": [
    "model.compile(loss=\"categorical_crossentropy\",optimizer=\"adam\",metrics=[\"accuracy\"])"
   ]
  },
  {
   "attachments": {},
   "cell_type": "markdown",
   "metadata": {},
   "source": [
    "Fitting Model"
   ]
  },
  {
   "cell_type": "code",
   "execution_count": 16,
   "metadata": {},
   "outputs": [
    {
     "name": "stdout",
     "output_type": "stream",
     "text": [
      "Epoch 1/30\n",
      "880/880 [==============================] - 20s 22ms/step - loss: 0.1892 - accuracy: 0.9417\n",
      "Epoch 2/30\n",
      "880/880 [==============================] - 19s 22ms/step - loss: 0.0584 - accuracy: 0.9824\n",
      "Epoch 3/30\n",
      "880/880 [==============================] - 19s 22ms/step - loss: 0.0384 - accuracy: 0.9874\n",
      "Epoch 4/30\n",
      "880/880 [==============================] - 19s 22ms/step - loss: 0.0295 - accuracy: 0.9903\n",
      "Epoch 5/30\n",
      "880/880 [==============================] - 19s 22ms/step - loss: 0.0223 - accuracy: 0.9927\n",
      "Epoch 6/30\n",
      "880/880 [==============================] - 19s 22ms/step - loss: 0.0154 - accuracy: 0.9951\n",
      "Epoch 7/30\n",
      "880/880 [==============================] - 19s 22ms/step - loss: 0.0171 - accuracy: 0.9944\n",
      "Epoch 8/30\n",
      "880/880 [==============================] - 19s 21ms/step - loss: 0.0113 - accuracy: 0.9960\n",
      "Epoch 9/30\n",
      "880/880 [==============================] - 19s 21ms/step - loss: 0.0098 - accuracy: 0.9972\n",
      "Epoch 10/30\n",
      "880/880 [==============================] - 19s 21ms/step - loss: 0.0099 - accuracy: 0.9967\n",
      "Epoch 11/30\n",
      "880/880 [==============================] - 19s 21ms/step - loss: 0.0075 - accuracy: 0.9978\n",
      "Epoch 12/30\n",
      "880/880 [==============================] - 19s 22ms/step - loss: 0.0068 - accuracy: 0.9979\n",
      "Epoch 13/30\n",
      "880/880 [==============================] - 19s 22ms/step - loss: 0.0088 - accuracy: 0.9973\n",
      "Epoch 14/30\n",
      "880/880 [==============================] - 19s 22ms/step - loss: 0.0038 - accuracy: 0.9987\n",
      "Epoch 15/30\n",
      "880/880 [==============================] - 19s 21ms/step - loss: 0.0080 - accuracy: 0.9978\n",
      "Epoch 16/30\n",
      "880/880 [==============================] - 19s 21ms/step - loss: 0.0069 - accuracy: 0.9976\n",
      "Epoch 17/30\n",
      "880/880 [==============================] - 19s 21ms/step - loss: 0.0032 - accuracy: 0.9989\n",
      "Epoch 18/30\n",
      "880/880 [==============================] - 19s 22ms/step - loss: 0.0048 - accuracy: 0.9986\n",
      "Epoch 19/30\n",
      "880/880 [==============================] - 19s 21ms/step - loss: 0.0051 - accuracy: 0.9983\n",
      "Epoch 20/30\n",
      "880/880 [==============================] - 19s 21ms/step - loss: 0.0041 - accuracy: 0.9987\n",
      "Epoch 21/30\n",
      "880/880 [==============================] - 19s 22ms/step - loss: 0.0034 - accuracy: 0.9991\n",
      "Epoch 22/30\n",
      "880/880 [==============================] - 19s 21ms/step - loss: 0.0049 - accuracy: 0.9982\n",
      "Epoch 23/30\n",
      "880/880 [==============================] - 19s 21ms/step - loss: 0.0021 - accuracy: 0.9993\n",
      "Epoch 24/30\n",
      "880/880 [==============================] - 19s 22ms/step - loss: 0.0042 - accuracy: 0.9985\n",
      "Epoch 25/30\n",
      "880/880 [==============================] - 19s 21ms/step - loss: 0.0046 - accuracy: 0.9986\n",
      "Epoch 26/30\n",
      "880/880 [==============================] - 18s 20ms/step - loss: 0.0040 - accuracy: 0.9988\n",
      "Epoch 27/30\n",
      "880/880 [==============================] - 18s 20ms/step - loss: 0.0041 - accuracy: 0.9990\n",
      "Epoch 28/30\n",
      "880/880 [==============================] - 18s 21ms/step - loss: 8.7869e-05 - accuracy: 1.0000\n",
      "Epoch 29/30\n",
      "880/880 [==============================] - 18s 20ms/step - loss: 2.8276e-05 - accuracy: 1.0000\n",
      "Epoch 30/30\n",
      "880/880 [==============================] - 18s 21ms/step - loss: 1.4855e-05 - accuracy: 1.0000\n"
     ]
    },
    {
     "data": {
      "text/plain": [
       "<keras.callbacks.History at 0x229858869a0>"
      ]
     },
     "execution_count": 16,
     "metadata": {},
     "output_type": "execute_result"
    }
   ],
   "source": [
    "model.fit(X_train,y_cat_train,epochs=30,verbose=1)"
   ]
  },
  {
   "attachments": {},
   "cell_type": "markdown",
   "metadata": {},
   "source": [
    "Making Predictions"
   ]
  },
  {
   "cell_type": "code",
   "execution_count": 18,
   "metadata": {},
   "outputs": [
    {
     "name": "stdout",
     "output_type": "stream",
     "text": [
      "434/434 [==============================] - 3s 8ms/step\n"
     ]
    },
    {
     "data": {
      "text/plain": [
       "array([[1.2544488e-22, 4.3923001e-18, 1.0523731e-16, ..., 5.2310936e-24,\n",
       "        1.0000000e+00, 5.5114377e-22],\n",
       "       [1.3259280e-14, 1.0000000e+00, 4.2702999e-13, ..., 3.0949527e-14,\n",
       "        2.7239972e-18, 1.9508641e-18],\n",
       "       [1.3792938e-22, 1.0229617e-21, 5.2689223e-25, ..., 2.8839197e-12,\n",
       "        2.6091050e-15, 1.0000000e+00],\n",
       "       ...,\n",
       "       [2.0918659e-22, 2.0226376e-31, 7.4566911e-33, ..., 0.0000000e+00,\n",
       "        3.9106295e-20, 0.0000000e+00],\n",
       "       [2.1004288e-23, 3.7076746e-13, 4.8463923e-17, ..., 1.8057003e-18,\n",
       "        5.0924447e-15, 2.4398691e-16],\n",
       "       [4.4366652e-29, 2.0555645e-15, 1.0000000e+00, ..., 1.4306111e-21,\n",
       "        2.5842821e-11, 4.9465080e-31]], dtype=float32)"
      ]
     },
     "execution_count": 18,
     "metadata": {},
     "output_type": "execute_result"
    }
   ],
   "source": [
    "preds=model.predict(X_test)\n",
    "preds"
   ]
  },
  {
   "cell_type": "code",
   "execution_count": 19,
   "metadata": {},
   "outputs": [
    {
     "data": {
      "text/plain": [
       "array([8, 1, 9, ..., 6, 3, 2], dtype=int64)"
      ]
     },
     "execution_count": 19,
     "metadata": {},
     "output_type": "execute_result"
    }
   ],
   "source": [
    "preds=np.argmax(preds,axis=1)\n",
    "preds"
   ]
  },
  {
   "attachments": {},
   "cell_type": "markdown",
   "metadata": {},
   "source": [
    "Evaluating Predictions"
   ]
  },
  {
   "cell_type": "code",
   "execution_count": 22,
   "metadata": {},
   "outputs": [
    {
     "data": {
      "text/plain": [
       "0.9919191919191919"
      ]
     },
     "execution_count": 22,
     "metadata": {},
     "output_type": "execute_result"
    }
   ],
   "source": [
    "accuracy_score(y_test,preds)"
   ]
  },
  {
   "cell_type": "code",
   "execution_count": 24,
   "metadata": {},
   "outputs": [],
   "source": [
    "# We have % 99.2 accuracy."
   ]
  },
  {
   "attachments": {},
   "cell_type": "markdown",
   "metadata": {},
   "source": [
    "Confusion Matrix"
   ]
  },
  {
   "cell_type": "code",
   "execution_count": 31,
   "metadata": {},
   "outputs": [
    {
     "data": {
      "text/plain": [
       "<AxesSubplot:>"
      ]
     },
     "execution_count": 31,
     "metadata": {},
     "output_type": "execute_result"
    },
    {
     "data": {
      "image/png": "[encoded data removed]",
      "text/plain": [
       "<Figure size 432x288 with 2 Axes>"
      ]
     },
     "metadata": {
      "needs_background": "light"
     },
     "output_type": "display_data"
    }
   ],
   "source": [
    "cf_matrix=confusion_matrix(y_test,preds)\n",
    "sns.heatmap(cf_matrix/np.sum(cf_matrix), annot=True, fmt='.1%', cmap='Blues')"
   ]
  }
 ],
 "metadata": {
  "kernelspec": {
   "display_name": "base",
   "language": "python",
   "name": "python3"
  },
  "language_info": {
   "codemirror_mode": {
    "name": "ipython",
    "version": 3
   },
   "file_extension": ".py",
   "mimetype": "text/x-python",
   "name": "python",
   "nbconvert_exporter": "python",
   "pygments_lexer": "ipython3",
   "version": "3.9.7"
  },
  "orig_nbformat": 4,
  "vscode": {
   "interpreter": {
    "hash": "36e4d1299e698d9b0fe4441c2e845213d7e86efc0b1568dab8bcc04473c763d8"
   }
  }
 },
 "nbformat": 4,
 "nbformat_minor": 2
}
